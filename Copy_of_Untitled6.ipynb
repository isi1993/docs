{
  "cells": [
    {
      "cell_type": "markdown",
      "metadata": {
        "id": "view-in-github",
        "colab_type": "text"
      },
      "source": [
        "<a href=\"https://colab.research.google.com/github/isi1993/docs/blob/main/Copy_of_Untitled6.ipynb\" target=\"_parent\"><img src=\"https://colab.research.google.com/assets/colab-badge.svg\" alt=\"Open In Colab\"/></a>"
      ]
    },
    {
      "cell_type": "code",
      "execution_count": null,
      "metadata": {
        "id": "YXhTw8qAlUlq"
      },
      "outputs": [],
      "source": [
        "import os"
      ]
    },
    {
      "cell_type": "code",
      "execution_count": null,
      "metadata": {
        "id": "ugmpNijhlV6p"
      },
      "outputs": [],
      "source": [
        "import shutil"
      ]
    },
    {
      "cell_type": "code",
      "execution_count": null,
      "metadata": {
        "id": "iSgRZGAElV-B"
      },
      "outputs": [],
      "source": [
        "document = r\"C:\\Users\\EliteBook 840 G6\\Documents\""
      ]
    },
    {
      "cell_type": "code",
      "execution_count": null,
      "metadata": {
        "id": "D6K3i6r_lWBu"
      },
      "outputs": [],
      "source": [
        "file_map = {\n",
        "     '.csv': r\"C:\\Users\\EliteBook 840 G6\\Documents\\excel.csv\",\n",
        "  '.txt': r\"C:\\Users\\EliteBook 840 G6\\Documents\\🟢 Beginner Topics python.txt\",\n",
        "   '.sgl': r\"C:\\Users\\EliteBook 840 G6\\Documents\\two_tables.sql\",\n",
        "    '.video': r\"C:\\Users\\EliteBook 840 G6\\Documents\\Untitled video - Made with Clipchamp.mp4\",\n",
        "     }"
      ]
    },
    {
      "cell_type": "code",
      "execution_count": null,
      "metadata": {
        "id": "cEhpvuiIlWH5"
      },
      "outputs": [],
      "source": [
        "for path in file_map.values():\n",
        "  os.makedirs(path, exist_ok=True)"
      ]
    },
    {
      "cell_type": "code",
      "execution_count": null,
      "metadata": {
        "id": "mjtiGK87lWKy"
      },
      "outputs": [],
      "source": [
        "for file in os.listdir(path):\n",
        "    file_path = os.path.join(document, fil)\n",
        "    if os.path.isfile(file_path):\n",
        "        ext = os.path.csv(file)[1].lower()\n",
        "        if ext in file_map:\n",
        "            dest_path = os.path.join(file_map[ext], file)\n",
        "            shutil.move(file_path, dest_path)\n",
        "            print(f\"Moved {file} to {file_map[ext]}\")"
      ]
    },
    {
      "cell_type": "code",
      "execution_count": null,
      "metadata": {
        "id": "9OVJaXW_lWNb",
        "colab": {
          "base_uri": "https://localhost:8080/",
          "height": 141
        },
        "outputId": "4542c07e-3eeb-4f54-99d4-38f04078f293"
      },
      "outputs": [
        {
          "output_type": "error",
          "ename": "NameError",
          "evalue": "name 'liestdir' is not defined",
          "traceback": [
            "\u001b[0;31m---------------------------------------------------------------------------\u001b[0m",
            "\u001b[0;31mNameError\u001b[0m                                 Traceback (most recent call last)",
            "\u001b[0;32m<ipython-input-40-7b3cc320a254>\u001b[0m in \u001b[0;36m<cell line: 0>\u001b[0;34m()\u001b[0m\n\u001b[0;32m----> 1\u001b[0;31m \u001b[0mliestdir\u001b[0m\u001b[0;34m(\u001b[0m\u001b[0;34m)\u001b[0m\u001b[0;34m\u001b[0m\u001b[0;34m\u001b[0m\u001b[0m\n\u001b[0m",
            "\u001b[0;31mNameError\u001b[0m: name 'liestdir' is not defined"
          ]
        }
      ],
      "source": [
        "liestdir()"
      ]
    },
    {
      "cell_type": "code",
      "execution_count": null,
      "metadata": {
        "id": "h5G2ocuAlWQi"
      },
      "outputs": [],
      "source": []
    },
    {
      "cell_type": "code",
      "execution_count": null,
      "metadata": {
        "id": "miGJchC-lWTm"
      },
      "outputs": [],
      "source": []
    },
    {
      "cell_type": "code",
      "execution_count": null,
      "metadata": {
        "id": "gtOBrl1ClWWl"
      },
      "outputs": [],
      "source": []
    },
    {
      "cell_type": "code",
      "execution_count": null,
      "metadata": {
        "id": "hNYiEn5ClWZI"
      },
      "outputs": [],
      "source": []
    },
    {
      "cell_type": "code",
      "execution_count": null,
      "metadata": {
        "id": "vXNKthfolWck"
      },
      "outputs": [],
      "source": []
    }
  ],
  "metadata": {
    "colab": {
      "provenance": [],
      "authorship_tag": "ABX9TyP4TVMRey7wUu3rv/NSWXts",
      "include_colab_link": true
    },
    "kernelspec": {
      "display_name": "Python 3",
      "name": "python3"
    },
    "language_info": {
      "name": "python"
    }
  },
  "nbformat": 4,
  "nbformat_minor": 0
}